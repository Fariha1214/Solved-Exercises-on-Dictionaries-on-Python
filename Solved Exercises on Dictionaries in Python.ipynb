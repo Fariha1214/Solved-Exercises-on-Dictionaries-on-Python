{
 "cells": [
  {
   "cell_type": "markdown",
   "id": "860ab290-15c3-4423-8a52-a0c771a341f5",
   "metadata": {},
   "source": [
    "#Solved Exercises on Dictionaries in Python"
   ]
  },
  {
   "cell_type": "code",
   "execution_count": null,
   "id": "604a4e04-5e96-4cec-be5e-f067f92004d5",
   "metadata": {},
   "outputs": [],
   "source": [
    "#Fariha Imran\n",
    "#FA24-BBD-027"
   ]
  },
  {
   "cell_type": "code",
   "execution_count": 1,
   "id": "d27214a4-a930-4714-bc70-4b19c2534050",
   "metadata": {},
   "outputs": [
    {
     "name": "stdout",
     "output_type": "stream",
     "text": [
      "{'name': 'Fariha', 'age': 18, 'city': 'Lahore', 'hobbies': 'Travelling'}\n"
     ]
    }
   ],
   "source": [
    "#Create a dictionary to store information about a person (name, age, city, hobbies).\n",
    "person_info = {\"name\":\"Fariha\", \"age\":18, \"city\":\"Lahore\", \"hobbies\":\"Travelling\"}\n",
    "print(person_info)"
   ]
  },
  {
   "cell_type": "code",
   "execution_count": 5,
   "id": "c8220c68-8906-4aae-ad14-d8f22f95259b",
   "metadata": {},
   "outputs": [
    {
     "name": "stdout",
     "output_type": "stream",
     "text": [
      "{'hello': 2, 'python': 1, 'world!': 1, 'again': 1}\n"
     ]
    }
   ],
   "source": [
    "#Write a program to count the frequency of words in a given text.\n",
    "text = \"Hello Python World! Hello Again\"\n",
    "words = text.split()\n",
    "word_frequency = {}\n",
    "for word in words:\n",
    "    word = word.lower()\n",
    "    if word in word_frequency:\n",
    "        word_frequency[word] += 1\n",
    "    else:\n",
    "        word_frequency[word] = 1\n",
    "print(word_frequency)"
   ]
  },
  {
   "cell_type": "code",
   "execution_count": 9,
   "id": "2540574f-04e4-461e-b0f8-f9abbab7f7b8",
   "metadata": {},
   "outputs": [
    {
     "name": "stdout",
     "output_type": "stream",
     "text": [
      "Jeans:2200\n",
      "Coats:1877\n",
      "Shawals:1360\n"
     ]
    }
   ],
   "source": [
    "#Implement a simple inventory system using dictionaries.\n",
    "inventory = {\"Jeans\":2500, \"Coats\":2150, \"Shawals\":1700}\n",
    "inventory[\"Jeans\"] -= 300\n",
    "inventory[\"Coats\"] -= 273\n",
    "inventory[\"Shawals\"] -= 340\n",
    "for items, quantity in inventory.items():\n",
    "    print(f\"{items}:{quantity}\")"
   ]
  },
  {
   "cell_type": "code",
   "execution_count": 13,
   "id": "be667720-e6a7-46ae-af51-f771a3cd01b1",
   "metadata": {},
   "outputs": [
    {
     "name": "stdout",
     "output_type": "stream",
     "text": [
      "Category Counts: {'Mobile Phone': 3, 'T-Shirts': 2, 'Groceries': 2, 'T-Shirt': 1}\n",
      "Most Popular Category: Mobile Phone with 3\n"
     ]
    }
   ],
   "source": [
    "#Analyze a dataset of customer orders to find the most popular product category.\n",
    "orders = [\n",
    "    {\"order_id\": 1, \"customer_id\": 201, \"product_category\": \"Mobile Phone\"},\n",
    "    {\"order_id\": 2, \"customer_id\": 202, \"product_category\": \"T-Shirts\"},\n",
    "    {\"order_id\": 3, \"customer_id\": 203, \"product_category\": \"Mobile Phone\"},\n",
    "    {\"order_id\": 4, \"customer_id\": 204, \"product_category\": \"Groceries\"},\n",
    "    {\"order_id\": 5, \"customer_id\": 205, \"product_category\": \"Mobile Phone\"},\n",
    "    {\"order_id\": 6, \"customer_id\": 206, \"product_category\": \"T-Shirts\"},\n",
    "    {\"order_id\": 7, \"customer_id\": 207, \"product_category\": \"Groceries\"},\n",
    "    {\"order_id\": 8, \"customer_id\": 208, \"product_category\": \"T-Shirt\"},\n",
    "]\n",
    "category_count={}\n",
    "for order in orders:\n",
    "    category = order[\"product_category\"]\n",
    "    if category in category_count:\n",
    "        category_count[category] += 1\n",
    "    else:\n",
    "        category_count[category] = 1\n",
    "        \n",
    "most_popular_category = None\n",
    "max_count = 0\n",
    "for category, count in category_count.items():\n",
    "    if count > max_count:\n",
    "        most_popular_category = category\n",
    "        max_count = count\n",
    "print(\"Category Counts:\", category_count)\n",
    "print(\"Most Popular Category:\", most_popular_category, \"with\", max_count)"
   ]
  },
  {
   "cell_type": "code",
   "execution_count": 19,
   "id": "a9720a0a-f09f-4a80-bbd3-ffe5983adafd",
   "metadata": {},
   "outputs": [
    {
     "name": "stdout",
     "output_type": "stream",
     "text": [
      "Student Grades: {'Fariha': 91, 'Arooba': 87, 'Ahmed': 76, 'Farhan': 82}\n",
      "Average Grade: 84.0\n"
     ]
    }
   ],
   "source": [
    "#Create a dictionary to store student grades and calculate the average grade.\n",
    "student_grades = {\"Fariha\": 91, \"Arooba\": 87, \"Ahmed\": 76, \"Farhan\": 82}\n",
    "total_grade = 0\n",
    "for grade in student_grades.values():\n",
    "    total_grade += grade \n",
    "average_grade = total_grade / len(student_grades)\n",
    "print(\"Student Grades:\", student_grades)\n",
    "print(\"Average Grade:\", average_grade)\n"
   ]
  },
  {
   "cell_type": "code",
   "execution_count": 23,
   "id": "61cc1b78-2c9e-415b-932e-a9f817bc65d9",
   "metadata": {},
   "outputs": [
    {
     "name": "stdout",
     "output_type": "stream",
     "text": [
      "Inventory Details:\n",
      "P001: {'name': 'Sketch book', 'quantity': 10, 'price': 400}\n",
      "P002: {'name': 'Canvas', 'quantity': 70, 'price': 250}\n",
      "P003: {'name': 'Paint', 'quantity': 30, 'price': 80}\n",
      "P004: {'name': 'Paint brush', 'quantity': 5, 'price': 50}\n",
      "P005: {'name': 'Paint palette', 'quantity': 15, 'price': 60}\n",
      "\n",
      "Total Inventory Value: 25050\n",
      "\n",
      "Low-Stock Items:\n",
      "P004: {'name': 'Paint brush', 'quantity': 5, 'price': 50}\n"
     ]
    }
   ],
   "source": [
    "# Inventory Management:\n",
    "# Create a dictionary to store product information\n",
    "inventory = {\n",
    "    \"P001\": {\"name\": \"Sketch book\", \"quantity\": 10, \"price\": 400},\n",
    "    \"P002\": {\"name\": \"Canvas\", \"quantity\": 50, \"price\": 250},\n",
    "    \"P003\": {\"name\": \"Paint\", \"quantity\": 30, \"price\": 80},\n",
    "    \"P004\": {\"name\": \"Paint brush\", \"quantity\": 5, \"price\": 50}\n",
    "}\n",
    "# Add new products\n",
    "new_product = {\"product_id\": \"P005\", \"name\": \"Paint palette\", \"quantity\": 15, \"price\": 60}\n",
    "inventory[new_product[\"product_id\"]] = {\n",
    "    \"name\": new_product[\"name\"],\n",
    "    \"quantity\": new_product[\"quantity\"],\n",
    "    \"price\": new_product[\"price\"]\n",
    "}\n",
    "# Update product quantities\n",
    "product_to_update = \"P002\"\n",
    "additional_quantity = 20\n",
    "if product_to_update in inventory:\n",
    "    inventory[product_to_update][\"quantity\"] += additional_quantity\n",
    "# Calculate total inventory value\n",
    "total_inventory_value = 0\n",
    "for product in inventory.values():\n",
    "    total_inventory_value += product[\"quantity\"] * product[\"price\"]\n",
    "# Generate a report of low-stock items (threshold: 10 units)\n",
    "low_stock_threshold = 10\n",
    "low_stock_items = {}\n",
    "for product_id, product_info in inventory.items():\n",
    "    if product_info[\"quantity\"] < low_stock_threshold:\n",
    "        low_stock_items[product_id] = product_info\n",
    "# Print the inventory details\n",
    "print(\"Inventory Details:\")\n",
    "for product_id, product_info in inventory.items():\n",
    "    print(f\"{product_id}: {product_info}\")\n",
    "# Print the total inventory value\n",
    "print(\"\\nTotal Inventory Value:\", total_inventory_value)\n",
    "# Print the low-stock items report\n",
    "print(\"\\nLow-Stock Items:\")\n",
    "for product_id, product_info in low_stock_items.items():\n",
    "    print(f\"{product_id}: {product_info}\")"
   ]
  },
  {
   "cell_type": "code",
   "execution_count": 25,
   "id": "896faf0e-a661-41c5-8fc4-3bbb91810def",
   "metadata": {},
   "outputs": [
    {
     "name": "stdout",
     "output_type": "stream",
     "text": [
      "Student Averages:\n",
      "Fariha: 84.33\n",
      "Adeena: 91.67\n",
      "Azka: 76.00\n",
      "Saleem: 88.33\n",
      "Aziz: 89.33\n",
      "\n",
      "Highest grade in Math: 95 (Student: Aziz)\n",
      "Lowest grade in Math: 76 (Student: Azka)\n",
      "\n",
      "Students sorted by average grades:\n",
      "Adeena: 91.67\n",
      "Aziz: 89.33\n",
      "Saleem: 88.33\n",
      "Fariha: 84.33\n",
      "Azka: 76.00\n"
     ]
    }
   ],
   "source": [
    "# Create a dictionary to store student information\n",
    "gradebook = {\n",
    "    \"Fariha\": {\"Math\": 85, \"English\": 90, \"Science\": 78},\n",
    "    \"Adeena\": {\"Math\": 92, \"English\": 88, \"Science\": 95},\n",
    "    \"Azka\": {\"Math\": 76, \"English\": 80, \"Science\": 72},\n",
    "    \"Saleem\": {\"Math\": 89, \"English\": 92, \"Science\": 84},\n",
    "    \"Aziz\": {\"Math\": 95, \"English\": 85, \"Science\": 88}\n",
    "}\n",
    "# Calculate the average grade for each student\n",
    "student_averages = {}\n",
    "for student, subjects in gradebook.items():\n",
    "    total = sum(subjects.values())\n",
    "    average = total / len(subjects)\n",
    "    student_averages[student] = average\n",
    "# Find the highest and lowest grades in a specific subject\n",
    "subject_to_analyze = \"Math\"\n",
    "highest_grade = None\n",
    "lowest_grade = None\n",
    "highest_student = None\n",
    "lowest_student = None\n",
    "\n",
    "for student, subjects in gradebook.items():\n",
    "    if subject_to_analyze in subjects:\n",
    "        grade = subjects[subject_to_analyze]\n",
    "        if highest_grade is None or grade > highest_grade:\n",
    "            highest_grade = grade\n",
    "            highest_student = student\n",
    "        if lowest_grade is None or grade < lowest_grade:\n",
    "            lowest_grade = grade\n",
    "            lowest_student = student\n",
    "# Sort students by their average grades\n",
    "sorted_students = sorted(student_averages.items(), key=lambda x: x[1], reverse=True)\n",
    "# Print the results\n",
    "print(\"Student Averages:\")\n",
    "for student, average in student_averages.items():\n",
    "    print(f\"{student}: {average:.2f}\")\n",
    "\n",
    "print(f\"\\nHighest grade in {subject_to_analyze}: {highest_grade} (Student: {highest_student})\")\n",
    "print(f\"Lowest grade in {subject_to_analyze}: {lowest_grade} (Student: {lowest_student})\")\n",
    "\n",
    "print(\"\\nStudents sorted by average grades:\")\n",
    "for student, average in sorted_students:\n",
    "    print(f\"{student}: {average:.2f}\")"
   ]
  },
  {
   "cell_type": "code",
   "execution_count": 30,
   "id": "274cc7b0-2e9f-4e35-b9b7-7df873934699",
   "metadata": {},
   "outputs": [
    {
     "name": "stdout",
     "output_type": "stream",
     "text": [
      "Cart Details:\n",
      "P001: {'name': 'Sketch book', 'price': 400, 'quantity': 1}\n",
      "\n",
      "Total Cost: 400\n",
      "Discount: 0\n",
      "Tax: 20.0\n",
      "Final Cost: 420.0\n"
     ]
    }
   ],
   "source": [
    "# Product catalog (dictionary to store product information)\n",
    "products = {\n",
    "    \"P001\": {\"name\": \"Sketch book\", \"quantity\": 10, \"price\": 400},\n",
    "    \"P002\": {\"name\": \"Canvas\", \"quantity\": 50, \"price\": 250},\n",
    "    \"P003\": {\"name\": \"Paint\", \"quantity\": 30, \"price\": 80},\n",
    "    \"P004\": {\"name\": \"Paint brush\", \"quantity\": 5, \"price\": 50},\n",
    "    \"P005\": {\"name\": \"Paint palette\", \"quantity\": 15, \"price\": 60}\n",
    "}\n",
    "cart = {}\n",
    "# Add products to the cart\n",
    "add_product_id = \"P001\"\n",
    "add_quantity = 2\n",
    "if add_product_id in products and products[add_product_id][\"quantity\"] >= add_quantity:\n",
    "    if add_product_id in cart:\n",
    "        cart[add_product_id][\"quantity\"] += add_quantity\n",
    "    else:\n",
    "        cart[add_product_id] = {\n",
    "            \"name\": products[add_product_id][\"name\"],\n",
    "            \"price\": products[add_product_id][\"price\"],\n",
    "            \"quantity\": add_quantity\n",
    "        }\n",
    "    products[add_product_id][\"quantity\"] -= add_quantity\n",
    "else:\n",
    "    print(f\"Cannot add {add_quantity} of product {add_product_id} - insufficient stock.\")\n",
    "\n",
    "# Remove a product from the cart\n",
    "remove_product_id = \"P001\"\n",
    "remove_quantity = 1\n",
    "if remove_product_id in cart and cart[remove_product_id][\"quantity\"] >= remove_quantity:\n",
    "    cart[remove_product_id][\"quantity\"] -= remove_quantity\n",
    "    products[remove_product_id][\"quantity\"] += remove_quantity\n",
    "    if cart[remove_product_id][\"quantity\"] == 0:\n",
    "        del cart[remove_product_id]\n",
    "else:\n",
    "    print(f\"Cannot remove {remove_quantity} of product {remove_product_id} - not in cart or insufficient quantity.\")\n",
    "\n",
    "# Calculate total cost of items in the cart\n",
    "total_cost = 0\n",
    "for item in cart.values():\n",
    "    total_cost += item[\"price\"] * item[\"quantity\"]\n",
    "\n",
    "# Apply discount (10% if total cost > 500) and taxes (5%)\n",
    "discount = 0.10 if total_cost > 500 else 0\n",
    "tax_rate = 0.05\n",
    "discount_amount = total_cost * discount\n",
    "tax_amount = (total_cost - discount_amount) * tax_rate\n",
    "final_cost = total_cost - discount_amount + tax_amount\n",
    "\n",
    "# Print cart details and final cost\n",
    "print(\"Cart Details:\")\n",
    "for item_id, item in cart.items():\n",
    "    print(f\"{item_id}: {item}\")\n",
    "\n",
    "print(f\"\\nTotal Cost: {total_cost}\")\n",
    "print(f\"Discount: {discount_amount}\")\n",
    "print(f\"Tax: {tax_amount}\")\n",
    "print(f\"Final Cost: {final_cost}\")"
   ]
  }
 ],
 "metadata": {
  "kernelspec": {
   "display_name": "Python 3 (ipykernel)",
   "language": "python",
   "name": "python3"
  },
  "language_info": {
   "codemirror_mode": {
    "name": "ipython",
    "version": 3
   },
   "file_extension": ".py",
   "mimetype": "text/x-python",
   "name": "python",
   "nbconvert_exporter": "python",
   "pygments_lexer": "ipython3",
   "version": "3.12.4"
  }
 },
 "nbformat": 4,
 "nbformat_minor": 5
}
